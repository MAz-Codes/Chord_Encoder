{
 "cells": [
  {
   "cell_type": "code",
   "execution_count": 3,
   "metadata": {},
   "outputs": [
    {
     "name": "stdout",
     "output_type": "stream",
     "text": [
      "*Unnecessary Information*The chord notes are: Eb, G, Bb, Db, E, B\n",
      "*Unnecessary Information*The chord notes are: C, E, G, B\n",
      "*Unnecessary Information*The chord notes are: E, G, B, D, F#\n",
      "*Unnecessary Information*The chord notes are: A, C, E, G\n",
      "Encoded Chords: [[1, 0, 0, 0, 1, 0, 0, 1, 0, 0, 0, 1, 0, 0, 0, 0, 0, 0, 0, 0, 0, 0, 0, 0, 0, 0, 0, 0, 0, 0, 0, 0, 0, 0, 0, 0], [0, 0, 0, 0, 1, 0, 1, 1, 0, 0, 0, 1, 0, 0, 1, 0, 0, 0, 0, 0, 0, 0, 0, 0, 0, 0, 0, 0, 0, 0, 0, 0, 0, 0, 0, 0], [0, 0, 0, 0, 0, 0, 0, 0, 0, 1, 0, 0, 1, 0, 0, 0, 1, 0, 0, 1, 0, 0, 0, 0, 0, 0, 0, 0, 0, 0, 0, 0, 0, 0, 0, 0]]\n",
      "Encoded Melodies: [(0, 1.0), (7, 2.0), (4, 1.0)]\n",
      "Combined Data: [((0, 1.0), [1, 0, 0, 0, 1, 0, 0, 1, 0, 0, 0, 1, 0, 0, 0, 0, 0, 0, 0, 0, 0, 0, 0, 0, 0, 0, 0, 0, 0, 0, 0, 0, 0, 0, 0, 0]), ((7, 2.0), [0, 0, 0, 0, 1, 0, 1, 1, 0, 0, 0, 1, 0, 0, 1, 0, 0, 0, 0, 0, 0, 0, 0, 0, 0, 0, 0, 0, 0, 0, 0, 0, 0, 0, 0, 0]), ((4, 1.0), [0, 0, 0, 0, 0, 0, 0, 0, 0, 1, 0, 0, 1, 0, 0, 0, 1, 0, 0, 1, 0, 0, 0, 0, 0, 0, 0, 0, 0, 0, 0, 0, 0, 0, 0, 0])]\n"
     ]
    }
   ],
   "source": [
    "from chord_encoder import encode_chord\n",
    "from melody_encoder import encode_melody\n",
    "\n",
    "# Chords to encode\n",
    "chords_to_encode = [(\"C\", \"M7\"), (\"E\", \"m9\"), (\"A\", \"m7\")]\n",
    "encoded_chords = [encode_chord(root, chord_type) for root, chord_type in chords_to_encode]\n",
    "\n",
    "# Melodies to encode\n",
    "melodies_to_encode = [(\"C\", \"q\"), (\"G\", \"h\"), (\"E\", \"q\")]\n",
    "encoded_melodies = encode_melody(melodies_to_encode)\n",
    "\n",
    "# Printing encoded results\n",
    "print(\"Encoded Chords:\", encoded_chords)\n",
    "print(\"Encoded Melodies:\", encoded_melodies)\n",
    "\n",
    "# If you wish to combine them\n",
    "combined_bar = list(zip(encoded_melodies, encoded_chords))\n",
    "print(\"Combined Data:\", combined_bar)\n"
   ]
  },
  {
   "cell_type": "code",
   "execution_count": null,
   "metadata": {},
   "outputs": [],
   "source": []
  }
 ],
 "metadata": {
  "kernelspec": {
   "display_name": "Python 3",
   "language": "python",
   "name": "python3"
  },
  "language_info": {
   "codemirror_mode": {
    "name": "ipython",
    "version": 3
   },
   "file_extension": ".py",
   "mimetype": "text/x-python",
   "name": "python",
   "nbconvert_exporter": "python",
   "pygments_lexer": "ipython3",
   "version": "3.11.4"
  }
 },
 "nbformat": 4,
 "nbformat_minor": 2
}
