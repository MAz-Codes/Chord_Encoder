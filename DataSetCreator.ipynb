{
 "cells": [
  {
   "cell_type": "code",
   "execution_count": 2,
   "metadata": {},
   "outputs": [
    {
     "ename": "ModuleNotFoundError",
     "evalue": "No module named 'ChordEncoder'",
     "output_type": "error",
     "traceback": [
      "\u001b[0;31m---------------------------------------------------------------------------\u001b[0m",
      "\u001b[0;31mModuleNotFoundError\u001b[0m                       Traceback (most recent call last)",
      "\u001b[1;32m/Users/misaghazimi/Documents/ML_Code/chordonehotencode/DataSetCreator.ipynb Cell 1\u001b[0m line \u001b[0;36m1\n\u001b[0;32m----> <a href='vscode-notebook-cell:/Users/misaghazimi/Documents/ML_Code/chordonehotencode/DataSetCreator.ipynb#W0sZmlsZQ%3D%3D?line=0'>1</a>\u001b[0m \u001b[39mfrom\u001b[39;00m \u001b[39mChordEncoder\u001b[39;00m\u001b[39m.\u001b[39;00m\u001b[39mipynb\u001b[39;00m \u001b[39mimport\u001b[39;00m encode_chord\n\u001b[1;32m      <a href='vscode-notebook-cell:/Users/misaghazimi/Documents/ML_Code/chordonehotencode/DataSetCreator.ipynb#W0sZmlsZQ%3D%3D?line=2'>3</a>\u001b[0m chords_to_encode \u001b[39m=\u001b[39m [(\u001b[39m\"\u001b[39m\u001b[39mC\u001b[39m\u001b[39m\"\u001b[39m, \u001b[39m\"\u001b[39m\u001b[39mM7\u001b[39m\u001b[39m\"\u001b[39m), (\u001b[39m\"\u001b[39m\u001b[39mE\u001b[39m\u001b[39m\"\u001b[39m, \u001b[39m\"\u001b[39m\u001b[39mm9\u001b[39m\u001b[39m\"\u001b[39m), (\u001b[39m\"\u001b[39m\u001b[39mA\u001b[39m\u001b[39m\"\u001b[39m, \u001b[39m\"\u001b[39m\u001b[39mm7\u001b[39m\u001b[39m\"\u001b[39m)]\n\u001b[1;32m      <a href='vscode-notebook-cell:/Users/misaghazimi/Documents/ML_Code/chordonehotencode/DataSetCreator.ipynb#W0sZmlsZQ%3D%3D?line=4'>5</a>\u001b[0m encoded_chords \u001b[39m=\u001b[39m []\n",
      "\u001b[0;31mModuleNotFoundError\u001b[0m: No module named 'ChordEncoder'"
     ]
    }
   ],
   "source": [
    "from ChordEncoder import encode_chord\n",
    "\n",
    "chords_to_encode = [(\"C\", \"M7\"), (\"E\", \"m9\"), (\"A\", \"m7\")]\n",
    "\n",
    "encoded_chords = []\n",
    "\n",
    "for root, chord_type in chords_to_encode:\n",
    "    encoded = encode_chord(root, chord_type)\n",
    "    encoded_chords.append(encoded)\n",
    "\n",
    "print(encoded_chords)"
   ]
  },
  {
   "cell_type": "code",
   "execution_count": null,
   "metadata": {},
   "outputs": [],
   "source": []
  }
 ],
 "metadata": {
  "kernelspec": {
   "display_name": "Python 3",
   "language": "python",
   "name": "python3"
  },
  "language_info": {
   "codemirror_mode": {
    "name": "ipython",
    "version": 3
   },
   "file_extension": ".py",
   "mimetype": "text/x-python",
   "name": "python",
   "nbconvert_exporter": "python",
   "pygments_lexer": "ipython3",
   "version": "3.11.4"
  }
 },
 "nbformat": 4,
 "nbformat_minor": 2
}
